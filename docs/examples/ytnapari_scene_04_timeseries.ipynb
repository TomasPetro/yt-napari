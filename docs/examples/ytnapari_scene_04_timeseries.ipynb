{
 "cells": [
  {
   "cell_type": "markdown",
   "id": "2dfbfdad-9fbc-451e-bd68-66900cf70677",
   "metadata": {},
   "source": [
    "## Timeseries analysis in yt_napari \n",
    "\n",
    "`yt_napari` includes a number of ways to load in timeseries data. From a jupyter notebook, you can use `yt_napari.timeseries.add_to_viewer` to specify a set of files to sequentially load and sample and add to an existing `napari.Viewer`. \n",
    "\n",
    "Unlike `yt` proper, you first instantiate a selection object **separate** from a dataset object. Right now, the otpions are a `Slice` or 3D `Region`:\n"
   ]
  },
  {
   "cell_type": "code",
   "execution_count": 1,
   "id": "3447e17a-c726-42a0-9b8e-f117bf2aefe5",
   "metadata": {},
   "outputs": [],
   "source": [
    "from yt_napari import timeseries"
   ]
  },
  {
   "cell_type": "code",
   "execution_count": 2,
   "id": "c1d9750f-7bd6-4d76-99d9-dead91fcda8f",
   "metadata": {},
   "outputs": [
    {
     "data": {
      "text/plain": [
       "\u001b[0;31mInit signature:\u001b[0m\n",
       "\u001b[0mtimeseries\u001b[0m\u001b[0;34m.\u001b[0m\u001b[0mSlice\u001b[0m\u001b[0;34m(\u001b[0m\u001b[0;34m\u001b[0m\n",
       "\u001b[0;34m\u001b[0m    \u001b[0mfield\u001b[0m\u001b[0;34m:\u001b[0m \u001b[0mTuple\u001b[0m\u001b[0;34m[\u001b[0m\u001b[0mstr\u001b[0m\u001b[0;34m,\u001b[0m \u001b[0mstr\u001b[0m\u001b[0;34m]\u001b[0m\u001b[0;34m,\u001b[0m\u001b[0;34m\u001b[0m\n",
       "\u001b[0;34m\u001b[0m    \u001b[0mnormal\u001b[0m\u001b[0;34m:\u001b[0m \u001b[0mUnion\u001b[0m\u001b[0;34m[\u001b[0m\u001b[0mstr\u001b[0m\u001b[0;34m,\u001b[0m \u001b[0mint\u001b[0m\u001b[0;34m]\u001b[0m\u001b[0;34m,\u001b[0m\u001b[0;34m\u001b[0m\n",
       "\u001b[0;34m\u001b[0m    \u001b[0mcenter\u001b[0m\u001b[0;34m:\u001b[0m \u001b[0mOptional\u001b[0m\u001b[0;34m[\u001b[0m\u001b[0munyt\u001b[0m\u001b[0;34m.\u001b[0m\u001b[0marray\u001b[0m\u001b[0;34m.\u001b[0m\u001b[0munyt_array\u001b[0m\u001b[0;34m]\u001b[0m \u001b[0;34m=\u001b[0m \u001b[0;32mNone\u001b[0m\u001b[0;34m,\u001b[0m\u001b[0;34m\u001b[0m\n",
       "\u001b[0;34m\u001b[0m    \u001b[0mwidth\u001b[0m\u001b[0;34m:\u001b[0m \u001b[0mOptional\u001b[0m\u001b[0;34m[\u001b[0m\u001b[0munyt\u001b[0m\u001b[0;34m.\u001b[0m\u001b[0marray\u001b[0m\u001b[0;34m.\u001b[0m\u001b[0munyt_quantity\u001b[0m\u001b[0;34m]\u001b[0m \u001b[0;34m=\u001b[0m \u001b[0;32mNone\u001b[0m\u001b[0;34m,\u001b[0m\u001b[0;34m\u001b[0m\n",
       "\u001b[0;34m\u001b[0m    \u001b[0mheight\u001b[0m\u001b[0;34m:\u001b[0m \u001b[0mOptional\u001b[0m\u001b[0;34m[\u001b[0m\u001b[0munyt\u001b[0m\u001b[0;34m.\u001b[0m\u001b[0marray\u001b[0m\u001b[0;34m.\u001b[0m\u001b[0munyt_quantity\u001b[0m\u001b[0;34m]\u001b[0m \u001b[0;34m=\u001b[0m \u001b[0;32mNone\u001b[0m\u001b[0;34m,\u001b[0m\u001b[0;34m\u001b[0m\n",
       "\u001b[0;34m\u001b[0m    \u001b[0mresolution\u001b[0m\u001b[0;34m:\u001b[0m \u001b[0mOptional\u001b[0m\u001b[0;34m[\u001b[0m\u001b[0mTuple\u001b[0m\u001b[0;34m[\u001b[0m\u001b[0mint\u001b[0m\u001b[0;34m,\u001b[0m \u001b[0mint\u001b[0m\u001b[0;34m]\u001b[0m\u001b[0;34m]\u001b[0m \u001b[0;34m=\u001b[0m \u001b[0;34m(\u001b[0m\u001b[0;36m400\u001b[0m\u001b[0;34m,\u001b[0m \u001b[0;36m400\u001b[0m\u001b[0;34m)\u001b[0m\u001b[0;34m,\u001b[0m\u001b[0;34m\u001b[0m\n",
       "\u001b[0;34m\u001b[0m    \u001b[0mperiodic\u001b[0m\u001b[0;34m:\u001b[0m \u001b[0mOptional\u001b[0m\u001b[0;34m[\u001b[0m\u001b[0mbool\u001b[0m\u001b[0;34m]\u001b[0m \u001b[0;34m=\u001b[0m \u001b[0;32mFalse\u001b[0m\u001b[0;34m,\u001b[0m\u001b[0;34m\u001b[0m\n",
       "\u001b[0;34m\u001b[0m    \u001b[0mtake_log\u001b[0m\u001b[0;34m:\u001b[0m \u001b[0mOptional\u001b[0m\u001b[0;34m[\u001b[0m\u001b[0mbool\u001b[0m\u001b[0;34m]\u001b[0m \u001b[0;34m=\u001b[0m \u001b[0;32mNone\u001b[0m\u001b[0;34m,\u001b[0m\u001b[0;34m\u001b[0m\n",
       "\u001b[0;34m\u001b[0m\u001b[0;34m)\u001b[0m\u001b[0;34m\u001b[0m\u001b[0;34m\u001b[0m\u001b[0m\n",
       "\u001b[0;31mDocstring:\u001b[0m     \n",
       "Helper class that provides a standard way to create an ABC using\n",
       "inheritance.\n",
       "\u001b[0;31mFile:\u001b[0m           ~/src/yt_general/napari_work/yt-napari/src/yt_napari/timeseries.py\n",
       "\u001b[0;31mType:\u001b[0m           ABCMeta\n",
       "\u001b[0;31mSubclasses:\u001b[0m     "
      ]
     },
     "metadata": {},
     "output_type": "display_data"
    }
   ],
   "source": [
    "timeseries.Slice?"
   ]
  },
  {
   "cell_type": "code",
   "execution_count": 3,
   "id": "0990c03d-a908-4961-a445-80781f2b0261",
   "metadata": {},
   "outputs": [
    {
     "data": {
      "text/plain": [
       "\u001b[0;31mInit signature:\u001b[0m\n",
       "\u001b[0mtimeseries\u001b[0m\u001b[0;34m.\u001b[0m\u001b[0mRegion\u001b[0m\u001b[0;34m(\u001b[0m\u001b[0;34m\u001b[0m\n",
       "\u001b[0;34m\u001b[0m    \u001b[0mfield\u001b[0m\u001b[0;34m:\u001b[0m \u001b[0mTuple\u001b[0m\u001b[0;34m[\u001b[0m\u001b[0mstr\u001b[0m\u001b[0;34m,\u001b[0m \u001b[0mstr\u001b[0m\u001b[0;34m]\u001b[0m\u001b[0;34m,\u001b[0m\u001b[0;34m\u001b[0m\n",
       "\u001b[0;34m\u001b[0m    \u001b[0mleft_edge\u001b[0m\u001b[0;34m:\u001b[0m \u001b[0mOptional\u001b[0m\u001b[0;34m[\u001b[0m\u001b[0munyt\u001b[0m\u001b[0;34m.\u001b[0m\u001b[0marray\u001b[0m\u001b[0;34m.\u001b[0m\u001b[0munyt_array\u001b[0m\u001b[0;34m]\u001b[0m \u001b[0;34m=\u001b[0m \u001b[0;32mNone\u001b[0m\u001b[0;34m,\u001b[0m\u001b[0;34m\u001b[0m\n",
       "\u001b[0;34m\u001b[0m    \u001b[0mright_edge\u001b[0m\u001b[0;34m:\u001b[0m \u001b[0mOptional\u001b[0m\u001b[0;34m[\u001b[0m\u001b[0munyt\u001b[0m\u001b[0;34m.\u001b[0m\u001b[0marray\u001b[0m\u001b[0;34m.\u001b[0m\u001b[0munyt_array\u001b[0m\u001b[0;34m]\u001b[0m \u001b[0;34m=\u001b[0m \u001b[0;32mNone\u001b[0m\u001b[0;34m,\u001b[0m\u001b[0;34m\u001b[0m\n",
       "\u001b[0;34m\u001b[0m    \u001b[0mresolution\u001b[0m\u001b[0;34m:\u001b[0m \u001b[0mOptional\u001b[0m\u001b[0;34m[\u001b[0m\u001b[0mTuple\u001b[0m\u001b[0;34m[\u001b[0m\u001b[0mint\u001b[0m\u001b[0;34m,\u001b[0m \u001b[0mint\u001b[0m\u001b[0;34m,\u001b[0m \u001b[0mint\u001b[0m\u001b[0;34m]\u001b[0m\u001b[0;34m]\u001b[0m \u001b[0;34m=\u001b[0m \u001b[0;34m(\u001b[0m\u001b[0;36m400\u001b[0m\u001b[0;34m,\u001b[0m \u001b[0;36m400\u001b[0m\u001b[0;34m,\u001b[0m \u001b[0;36m400\u001b[0m\u001b[0;34m)\u001b[0m\u001b[0;34m,\u001b[0m\u001b[0;34m\u001b[0m\n",
       "\u001b[0;34m\u001b[0m    \u001b[0mtake_log\u001b[0m\u001b[0;34m:\u001b[0m \u001b[0mOptional\u001b[0m\u001b[0;34m[\u001b[0m\u001b[0mbool\u001b[0m\u001b[0;34m]\u001b[0m \u001b[0;34m=\u001b[0m \u001b[0;32mNone\u001b[0m\u001b[0;34m,\u001b[0m\u001b[0;34m\u001b[0m\n",
       "\u001b[0;34m\u001b[0m\u001b[0;34m)\u001b[0m\u001b[0;34m\u001b[0m\u001b[0;34m\u001b[0m\u001b[0m\n",
       "\u001b[0;31mDocstring:\u001b[0m     \n",
       "Helper class that provides a standard way to create an ABC using\n",
       "inheritance.\n",
       "\u001b[0;31mFile:\u001b[0m           ~/src/yt_general/napari_work/yt-napari/src/yt_napari/timeseries.py\n",
       "\u001b[0;31mType:\u001b[0m           ABCMeta\n",
       "\u001b[0;31mSubclasses:\u001b[0m     "
      ]
     },
     "metadata": {},
     "output_type": "display_data"
    }
   ],
   "source": [
    "timeseries.Region?"
   ]
  },
  {
   "cell_type": "markdown",
   "id": "edd2babf-5aae-4d2f-8079-96a68b594b22",
   "metadata": {},
   "source": [
    "Once you create a `Slice` or `Region`, you can pass that to `add_to_viewer` and it will be used to sample each timestep specified. \n",
    "\n",
    "## Slices through a timeseries\n",
    "\n",
    "To start, let's initialize a `napari` viewer"
   ]
  },
  {
   "cell_type": "code",
   "execution_count": 4,
   "id": "22fdc7c3-6e06-498e-8497-b6064bc9b910",
   "metadata": {},
   "outputs": [],
   "source": [
    "import napari "
   ]
  },
  {
   "cell_type": "code",
   "execution_count": 5,
   "id": "f95a2b8b-769f-4ee6-91bb-744ae2953d4b",
   "metadata": {},
   "outputs": [],
   "source": [
    "v = napari.Viewer()"
   ]
  },
  {
   "cell_type": "markdown",
   "id": "f3ee393c-1bbe-40fc-b401-4d7862f899a8",
   "metadata": {},
   "source": [
    "and let's build the `Slice` object that will get applied to each timestep. To do so, you need to at least specify the field to sample and the normal axis for the slice:"
   ]
  },
  {
   "cell_type": "code",
   "execution_count": 6,
   "id": "70056566-50cd-4e21-b72c-0bf37a54d61f",
   "metadata": {},
   "outputs": [],
   "source": [
    "s = timeseries.Slice(('enzo', 'Density'), 'x')                   "
   ]
  },
  {
   "cell_type": "code",
   "execution_count": 8,
   "id": "56c319de-68b4-40a4-a086-6fa01e0fbd94",
   "metadata": {},
   "outputs": [],
   "source": []
  },
  {
   "cell_type": "markdown",
   "id": "ef833ed0-10af-490d-973f-881f8c506808",
   "metadata": {},
   "source": [
    "### loading as a stack"
   ]
  },
  {
   "cell_type": "code",
   "execution_count": 11,
   "id": "adcd6977-5d78-4789-863c-c69e4a91da95",
   "metadata": {},
   "outputs": [],
   "source": [
    "file_pattern = \"enzo_tiny_cosmology/DD????/DD????\""
   ]
  },
  {
   "cell_type": "code",
   "execution_count": 18,
   "id": "c6bbb063-7e71-467b-98be-9d6668b6a379",
   "metadata": {
    "scrolled": true
   },
   "outputs": [
    {
     "name": "stdout",
     "output_type": "stream",
     "text": [
      "CPU times: user 33.2 s, sys: 508 ms, total: 33.7 s\n",
      "Wall time: 34.3 s\n"
     ]
    }
   ],
   "source": [
    "%%time\n",
    "%%capture\n",
    "yt.set_log_level(40)\n",
    "timeseries.add_to_viewer(v,s,file_pattern=file_pattern, load_as_stack=True);"
   ]
  },
  {
   "cell_type": "markdown",
   "id": "c870bc58-8e78-4703-a920-0eb28cade01b",
   "metadata": {},
   "source": [
    "### loading a range of matches \n",
    "\n",
    "In the case above, we are loading in 47 timesteps. We can also specify a `file_range` tuple in the form of `(start, stop, step)`, and the identified files will be subsampled from the full range of matched files. To extract every 10th, for example:\n"
   ]
  },
  {
   "cell_type": "code",
   "execution_count": 20,
   "id": "0b8fbdba-44c0-455c-ad85-53218afc7338",
   "metadata": {},
   "outputs": [
    {
     "name": "stdout",
     "output_type": "stream",
     "text": [
      "CPU times: user 3.58 s, sys: 56 ms, total: 3.63 s\n",
      "Wall time: 3.59 s\n"
     ]
    }
   ],
   "source": [
    "%%time\n",
    "%%capture\n",
    "timeseries.add_to_viewer(v,s,file_pattern=file_pattern, file_range=(0, 50, 10), load_as_stack=True);"
   ]
  },
  {
   "cell_type": "markdown",
   "id": "091e5dd2-0c6a-4bf6-9d63-5f432f07633b",
   "metadata": {},
   "source": [
    "### loading specific timesteps \n",
    "\n",
    "And finally, you can specify the exact files you want with `file_list`. If you also provide a `file_dir`, it will get pre-prended to the filenames in `file_list` to save you some typing:"
   ]
  },
  {
   "cell_type": "code",
   "execution_count": 7,
   "id": "616805e0-be59-4787-b0b8-a511ed2e5016",
   "metadata": {},
   "outputs": [
    {
     "name": "stderr",
     "output_type": "stream",
     "text": [
      "yt : [INFO     ] 2023-08-10 16:56:49,036 Parameters: current_time              = 120.81665329669\n",
      "yt : [INFO     ] 2023-08-10 16:56:49,037 Parameters: domain_dimensions         = [32 32 32]\n",
      "yt : [INFO     ] 2023-08-10 16:56:49,037 Parameters: domain_left_edge          = [0. 0. 0.]\n",
      "yt : [INFO     ] 2023-08-10 16:56:49,038 Parameters: domain_right_edge         = [1. 1. 1.]\n",
      "yt : [INFO     ] 2023-08-10 16:56:49,039 Parameters: cosmological_simulation   = 1\n",
      "yt : [INFO     ] 2023-08-10 16:56:49,039 Parameters: current_redshift          = 0.73734987821014\n",
      "yt : [INFO     ] 2023-08-10 16:56:49,040 Parameters: omega_lambda              = 0.727\n",
      "yt : [INFO     ] 2023-08-10 16:56:49,040 Parameters: omega_matter              = 0.273\n",
      "yt : [INFO     ] 2023-08-10 16:56:49,040 Parameters: omega_radiation           = 0.0\n",
      "yt : [INFO     ] 2023-08-10 16:56:49,041 Parameters: hubble_constant           = 0.702\n",
      "yt : [INFO     ] 2023-08-10 16:56:49,045 Making a fixed resolution buffer of (('enzo', 'Density')) 400 by 400\n",
      "Parsing Hierarchy : 100%|████████████████████████████████████████████████████████| 132/132 [00:00<00:00, 17864.23it/s]\n",
      "yt : [INFO     ] 2023-08-10 16:56:49,060 Gathering a field list (this may take a moment.)\n",
      "yt : [INFO     ] 2023-08-10 16:56:49,873 Parameters: current_time              = 170.8165661547\n",
      "yt : [INFO     ] 2023-08-10 16:56:49,874 Parameters: domain_dimensions         = [32 32 32]\n",
      "yt : [INFO     ] 2023-08-10 16:56:49,874 Parameters: domain_left_edge          = [0. 0. 0.]\n",
      "yt : [INFO     ] 2023-08-10 16:56:49,876 Parameters: domain_right_edge         = [1. 1. 1.]\n",
      "yt : [INFO     ] 2023-08-10 16:56:49,876 Parameters: cosmological_simulation   = 1\n",
      "yt : [INFO     ] 2023-08-10 16:56:49,877 Parameters: current_redshift          = 0.31614935480033\n",
      "yt : [INFO     ] 2023-08-10 16:56:49,877 Parameters: omega_lambda              = 0.727\n",
      "yt : [INFO     ] 2023-08-10 16:56:49,878 Parameters: omega_matter              = 0.273\n",
      "yt : [INFO     ] 2023-08-10 16:56:49,878 Parameters: omega_radiation           = 0.0\n",
      "yt : [INFO     ] 2023-08-10 16:56:49,878 Parameters: hubble_constant           = 0.702\n",
      "yt : [INFO     ] 2023-08-10 16:56:49,882 Making a fixed resolution buffer of (('enzo', 'Density')) 400 by 400\n",
      "Parsing Hierarchy : 100%|████████████████████████████████████████████████████████| 162/162 [00:00<00:00, 18077.45it/s]\n",
      "yt : [INFO     ] 2023-08-10 16:56:49,897 Gathering a field list (this may take a moment.)\n",
      "yt : [INFO     ] 2023-08-10 16:56:50,538 Parameters: current_time              = 205.81652240489\n",
      "yt : [INFO     ] 2023-08-10 16:56:50,539 Parameters: domain_dimensions         = [32 32 32]\n",
      "yt : [INFO     ] 2023-08-10 16:56:50,540 Parameters: domain_left_edge          = [0. 0. 0.]\n",
      "yt : [INFO     ] 2023-08-10 16:56:50,541 Parameters: domain_right_edge         = [1. 1. 1.]\n",
      "yt : [INFO     ] 2023-08-10 16:56:50,541 Parameters: cosmological_simulation   = 1\n",
      "yt : [INFO     ] 2023-08-10 16:56:50,542 Parameters: current_redshift          = 0.11540095982813\n",
      "yt : [INFO     ] 2023-08-10 16:56:50,542 Parameters: omega_lambda              = 0.727\n",
      "yt : [INFO     ] 2023-08-10 16:56:50,543 Parameters: omega_matter              = 0.273\n",
      "yt : [INFO     ] 2023-08-10 16:56:50,543 Parameters: omega_radiation           = 0.0\n",
      "yt : [INFO     ] 2023-08-10 16:56:50,543 Parameters: hubble_constant           = 0.702\n",
      "yt : [INFO     ] 2023-08-10 16:56:50,547 Making a fixed resolution buffer of (('enzo', 'Density')) 400 by 400\n",
      "Parsing Hierarchy : 100%|████████████████████████████████████████████████████████| 194/194 [00:00<00:00, 17255.39it/s]\n",
      "yt : [INFO     ] 2023-08-10 16:56:50,566 Gathering a field list (this may take a moment.)\n"
     ]
    }
   ],
   "source": [
    "%%time\n",
    "%%capture\n",
    "flist = [\"DD0024/DD0024\", \"DD0034/DD0034\", \"DD0041/DD0041\"]\n",
    "timeseries.add_to_viewer(v,s, file_dir=\"enzo_tiny_cosmology\", file_list=flist, load_as_stack=True);"
   ]
  },
  {
   "cell_type": "markdown",
   "id": "6e1ecec2-a9c9-4381-a715-c51a0993fc79",
   "metadata": {},
   "source": [
    "## loading delayed arrays\n",
    "\n",
    "### spin up a dask client \n",
    "\n",
    "\n",
    "### multithreading and yt\n",
    "\n",
    "Note that `yt` is not gauranteed to be thread safe. In practice, there are some situations where it **might** be and for this particular dataset, it actually is as long as logging is disabled (which is enforced within `add_to_viewer` when `use_dask=True`. "
   ]
  },
  {
   "cell_type": "code",
   "execution_count": 7,
   "id": "7e0c74cc-da90-4227-81cf-8df024a82f30",
   "metadata": {},
   "outputs": [],
   "source": [
    "from dask.distributed import Client "
   ]
  },
  {
   "cell_type": "code",
   "execution_count": 8,
   "id": "3342fc8f-6381-43c2-bcee-88e883492834",
   "metadata": {},
   "outputs": [
    {
     "name": "stderr",
     "output_type": "stream",
     "text": [
      "/home/chavlin/.pyenv/versions/3.9.16/envs/ytnapari/lib/python3.9/site-packages/distributed/node.py:182: UserWarning: Port 8787 is already in use.\n",
      "Perhaps you already have a cluster running?\n",
      "Hosting the HTTP server on port 39127 instead\n",
      "  warnings.warn(\n"
     ]
    }
   ],
   "source": [
    "c = Client(n_workers=5, threads_per_worker=5)"
   ]
  },
  {
   "cell_type": "code",
   "execution_count": 9,
   "id": "e8b7cfa5-f39b-495b-a493-8c04e5f91cd7",
   "metadata": {},
   "outputs": [
    {
     "data": {
      "text/html": [
       "<div>\n",
       "    <div style=\"width: 24px; height: 24px; background-color: #e1e1e1; border: 3px solid #9D9D9D; border-radius: 5px; position: absolute;\"> </div>\n",
       "    <div style=\"margin-left: 48px;\">\n",
       "        <h3 style=\"margin-bottom: 0px;\">Client</h3>\n",
       "        <p style=\"color: #9D9D9D; margin-bottom: 0px;\">Client-b2ba9369-37ca-11ee-b489-9d370e7ce927</p>\n",
       "        <table style=\"width: 100%; text-align: left;\">\n",
       "\n",
       "        <tr>\n",
       "        \n",
       "            <td style=\"text-align: left;\"><strong>Connection method:</strong> Cluster object</td>\n",
       "            <td style=\"text-align: left;\"><strong>Cluster type:</strong> distributed.LocalCluster</td>\n",
       "        \n",
       "        </tr>\n",
       "\n",
       "        \n",
       "            <tr>\n",
       "                <td style=\"text-align: left;\">\n",
       "                    <strong>Dashboard: </strong> <a href=\"http://127.0.0.1:39127/status\" target=\"_blank\">http://127.0.0.1:39127/status</a>\n",
       "                </td>\n",
       "                <td style=\"text-align: left;\"></td>\n",
       "            </tr>\n",
       "        \n",
       "\n",
       "        </table>\n",
       "\n",
       "        \n",
       "\n",
       "        \n",
       "            <details>\n",
       "            <summary style=\"margin-bottom: 20px;\"><h3 style=\"display: inline;\">Cluster Info</h3></summary>\n",
       "            <div class=\"jp-RenderedHTMLCommon jp-RenderedHTML jp-mod-trusted jp-OutputArea-output\">\n",
       "    <div style=\"width: 24px; height: 24px; background-color: #e1e1e1; border: 3px solid #9D9D9D; border-radius: 5px; position: absolute;\">\n",
       "    </div>\n",
       "    <div style=\"margin-left: 48px;\">\n",
       "        <h3 style=\"margin-bottom: 0px; margin-top: 0px;\">LocalCluster</h3>\n",
       "        <p style=\"color: #9D9D9D; margin-bottom: 0px;\">f8287e53</p>\n",
       "        <table style=\"width: 100%; text-align: left;\">\n",
       "            <tr>\n",
       "                <td style=\"text-align: left;\">\n",
       "                    <strong>Dashboard:</strong> <a href=\"http://127.0.0.1:39127/status\" target=\"_blank\">http://127.0.0.1:39127/status</a>\n",
       "                </td>\n",
       "                <td style=\"text-align: left;\">\n",
       "                    <strong>Workers:</strong> 5\n",
       "                </td>\n",
       "            </tr>\n",
       "            <tr>\n",
       "                <td style=\"text-align: left;\">\n",
       "                    <strong>Total threads:</strong> 25\n",
       "                </td>\n",
       "                <td style=\"text-align: left;\">\n",
       "                    <strong>Total memory:</strong> 31.18 GiB\n",
       "                </td>\n",
       "            </tr>\n",
       "            \n",
       "            <tr>\n",
       "    <td style=\"text-align: left;\"><strong>Status:</strong> running</td>\n",
       "    <td style=\"text-align: left;\"><strong>Using processes:</strong> True</td>\n",
       "</tr>\n",
       "\n",
       "            \n",
       "        </table>\n",
       "\n",
       "        <details>\n",
       "            <summary style=\"margin-bottom: 20px;\">\n",
       "                <h3 style=\"display: inline;\">Scheduler Info</h3>\n",
       "            </summary>\n",
       "\n",
       "            <div style=\"\">\n",
       "    <div>\n",
       "        <div style=\"width: 24px; height: 24px; background-color: #FFF7E5; border: 3px solid #FF6132; border-radius: 5px; position: absolute;\"> </div>\n",
       "        <div style=\"margin-left: 48px;\">\n",
       "            <h3 style=\"margin-bottom: 0px;\">Scheduler</h3>\n",
       "            <p style=\"color: #9D9D9D; margin-bottom: 0px;\">Scheduler-07a13ead-bb22-4da9-97c7-aedf4c2aa6ad</p>\n",
       "            <table style=\"width: 100%; text-align: left;\">\n",
       "                <tr>\n",
       "                    <td style=\"text-align: left;\">\n",
       "                        <strong>Comm:</strong> tcp://127.0.0.1:34955\n",
       "                    </td>\n",
       "                    <td style=\"text-align: left;\">\n",
       "                        <strong>Workers:</strong> 5\n",
       "                    </td>\n",
       "                </tr>\n",
       "                <tr>\n",
       "                    <td style=\"text-align: left;\">\n",
       "                        <strong>Dashboard:</strong> <a href=\"http://127.0.0.1:39127/status\" target=\"_blank\">http://127.0.0.1:39127/status</a>\n",
       "                    </td>\n",
       "                    <td style=\"text-align: left;\">\n",
       "                        <strong>Total threads:</strong> 25\n",
       "                    </td>\n",
       "                </tr>\n",
       "                <tr>\n",
       "                    <td style=\"text-align: left;\">\n",
       "                        <strong>Started:</strong> Just now\n",
       "                    </td>\n",
       "                    <td style=\"text-align: left;\">\n",
       "                        <strong>Total memory:</strong> 31.18 GiB\n",
       "                    </td>\n",
       "                </tr>\n",
       "            </table>\n",
       "        </div>\n",
       "    </div>\n",
       "\n",
       "    <details style=\"margin-left: 48px;\">\n",
       "        <summary style=\"margin-bottom: 20px;\">\n",
       "            <h3 style=\"display: inline;\">Workers</h3>\n",
       "        </summary>\n",
       "\n",
       "        \n",
       "        <div style=\"margin-bottom: 20px;\">\n",
       "            <div style=\"width: 24px; height: 24px; background-color: #DBF5FF; border: 3px solid #4CC9FF; border-radius: 5px; position: absolute;\"> </div>\n",
       "            <div style=\"margin-left: 48px;\">\n",
       "            <details>\n",
       "                <summary>\n",
       "                    <h4 style=\"margin-bottom: 0px; display: inline;\">Worker: 0</h4>\n",
       "                </summary>\n",
       "                <table style=\"width: 100%; text-align: left;\">\n",
       "                    <tr>\n",
       "                        <td style=\"text-align: left;\">\n",
       "                            <strong>Comm: </strong> tcp://127.0.0.1:46225\n",
       "                        </td>\n",
       "                        <td style=\"text-align: left;\">\n",
       "                            <strong>Total threads: </strong> 5\n",
       "                        </td>\n",
       "                    </tr>\n",
       "                    <tr>\n",
       "                        <td style=\"text-align: left;\">\n",
       "                            <strong>Dashboard: </strong> <a href=\"http://127.0.0.1:44559/status\" target=\"_blank\">http://127.0.0.1:44559/status</a>\n",
       "                        </td>\n",
       "                        <td style=\"text-align: left;\">\n",
       "                            <strong>Memory: </strong> 6.24 GiB\n",
       "                        </td>\n",
       "                    </tr>\n",
       "                    <tr>\n",
       "                        <td style=\"text-align: left;\">\n",
       "                            <strong>Nanny: </strong> tcp://127.0.0.1:34697\n",
       "                        </td>\n",
       "                        <td style=\"text-align: left;\"></td>\n",
       "                    </tr>\n",
       "                    <tr>\n",
       "                        <td colspan=\"2\" style=\"text-align: left;\">\n",
       "                            <strong>Local directory: </strong> /tmp/dask-scratch-space/worker-0zy67y27\n",
       "                        </td>\n",
       "                    </tr>\n",
       "\n",
       "                    \n",
       "\n",
       "                    \n",
       "\n",
       "                </table>\n",
       "            </details>\n",
       "            </div>\n",
       "        </div>\n",
       "        \n",
       "        <div style=\"margin-bottom: 20px;\">\n",
       "            <div style=\"width: 24px; height: 24px; background-color: #DBF5FF; border: 3px solid #4CC9FF; border-radius: 5px; position: absolute;\"> </div>\n",
       "            <div style=\"margin-left: 48px;\">\n",
       "            <details>\n",
       "                <summary>\n",
       "                    <h4 style=\"margin-bottom: 0px; display: inline;\">Worker: 1</h4>\n",
       "                </summary>\n",
       "                <table style=\"width: 100%; text-align: left;\">\n",
       "                    <tr>\n",
       "                        <td style=\"text-align: left;\">\n",
       "                            <strong>Comm: </strong> tcp://127.0.0.1:34243\n",
       "                        </td>\n",
       "                        <td style=\"text-align: left;\">\n",
       "                            <strong>Total threads: </strong> 5\n",
       "                        </td>\n",
       "                    </tr>\n",
       "                    <tr>\n",
       "                        <td style=\"text-align: left;\">\n",
       "                            <strong>Dashboard: </strong> <a href=\"http://127.0.0.1:40337/status\" target=\"_blank\">http://127.0.0.1:40337/status</a>\n",
       "                        </td>\n",
       "                        <td style=\"text-align: left;\">\n",
       "                            <strong>Memory: </strong> 6.24 GiB\n",
       "                        </td>\n",
       "                    </tr>\n",
       "                    <tr>\n",
       "                        <td style=\"text-align: left;\">\n",
       "                            <strong>Nanny: </strong> tcp://127.0.0.1:35317\n",
       "                        </td>\n",
       "                        <td style=\"text-align: left;\"></td>\n",
       "                    </tr>\n",
       "                    <tr>\n",
       "                        <td colspan=\"2\" style=\"text-align: left;\">\n",
       "                            <strong>Local directory: </strong> /tmp/dask-scratch-space/worker-_2fclo7t\n",
       "                        </td>\n",
       "                    </tr>\n",
       "\n",
       "                    \n",
       "\n",
       "                    \n",
       "\n",
       "                </table>\n",
       "            </details>\n",
       "            </div>\n",
       "        </div>\n",
       "        \n",
       "        <div style=\"margin-bottom: 20px;\">\n",
       "            <div style=\"width: 24px; height: 24px; background-color: #DBF5FF; border: 3px solid #4CC9FF; border-radius: 5px; position: absolute;\"> </div>\n",
       "            <div style=\"margin-left: 48px;\">\n",
       "            <details>\n",
       "                <summary>\n",
       "                    <h4 style=\"margin-bottom: 0px; display: inline;\">Worker: 2</h4>\n",
       "                </summary>\n",
       "                <table style=\"width: 100%; text-align: left;\">\n",
       "                    <tr>\n",
       "                        <td style=\"text-align: left;\">\n",
       "                            <strong>Comm: </strong> tcp://127.0.0.1:38931\n",
       "                        </td>\n",
       "                        <td style=\"text-align: left;\">\n",
       "                            <strong>Total threads: </strong> 5\n",
       "                        </td>\n",
       "                    </tr>\n",
       "                    <tr>\n",
       "                        <td style=\"text-align: left;\">\n",
       "                            <strong>Dashboard: </strong> <a href=\"http://127.0.0.1:42427/status\" target=\"_blank\">http://127.0.0.1:42427/status</a>\n",
       "                        </td>\n",
       "                        <td style=\"text-align: left;\">\n",
       "                            <strong>Memory: </strong> 6.24 GiB\n",
       "                        </td>\n",
       "                    </tr>\n",
       "                    <tr>\n",
       "                        <td style=\"text-align: left;\">\n",
       "                            <strong>Nanny: </strong> tcp://127.0.0.1:42129\n",
       "                        </td>\n",
       "                        <td style=\"text-align: left;\"></td>\n",
       "                    </tr>\n",
       "                    <tr>\n",
       "                        <td colspan=\"2\" style=\"text-align: left;\">\n",
       "                            <strong>Local directory: </strong> /tmp/dask-scratch-space/worker-5_ymb_hi\n",
       "                        </td>\n",
       "                    </tr>\n",
       "\n",
       "                    \n",
       "\n",
       "                    \n",
       "\n",
       "                </table>\n",
       "            </details>\n",
       "            </div>\n",
       "        </div>\n",
       "        \n",
       "        <div style=\"margin-bottom: 20px;\">\n",
       "            <div style=\"width: 24px; height: 24px; background-color: #DBF5FF; border: 3px solid #4CC9FF; border-radius: 5px; position: absolute;\"> </div>\n",
       "            <div style=\"margin-left: 48px;\">\n",
       "            <details>\n",
       "                <summary>\n",
       "                    <h4 style=\"margin-bottom: 0px; display: inline;\">Worker: 3</h4>\n",
       "                </summary>\n",
       "                <table style=\"width: 100%; text-align: left;\">\n",
       "                    <tr>\n",
       "                        <td style=\"text-align: left;\">\n",
       "                            <strong>Comm: </strong> tcp://127.0.0.1:42125\n",
       "                        </td>\n",
       "                        <td style=\"text-align: left;\">\n",
       "                            <strong>Total threads: </strong> 5\n",
       "                        </td>\n",
       "                    </tr>\n",
       "                    <tr>\n",
       "                        <td style=\"text-align: left;\">\n",
       "                            <strong>Dashboard: </strong> <a href=\"http://127.0.0.1:43795/status\" target=\"_blank\">http://127.0.0.1:43795/status</a>\n",
       "                        </td>\n",
       "                        <td style=\"text-align: left;\">\n",
       "                            <strong>Memory: </strong> 6.24 GiB\n",
       "                        </td>\n",
       "                    </tr>\n",
       "                    <tr>\n",
       "                        <td style=\"text-align: left;\">\n",
       "                            <strong>Nanny: </strong> tcp://127.0.0.1:46073\n",
       "                        </td>\n",
       "                        <td style=\"text-align: left;\"></td>\n",
       "                    </tr>\n",
       "                    <tr>\n",
       "                        <td colspan=\"2\" style=\"text-align: left;\">\n",
       "                            <strong>Local directory: </strong> /tmp/dask-scratch-space/worker-yu457j65\n",
       "                        </td>\n",
       "                    </tr>\n",
       "\n",
       "                    \n",
       "\n",
       "                    \n",
       "\n",
       "                </table>\n",
       "            </details>\n",
       "            </div>\n",
       "        </div>\n",
       "        \n",
       "        <div style=\"margin-bottom: 20px;\">\n",
       "            <div style=\"width: 24px; height: 24px; background-color: #DBF5FF; border: 3px solid #4CC9FF; border-radius: 5px; position: absolute;\"> </div>\n",
       "            <div style=\"margin-left: 48px;\">\n",
       "            <details>\n",
       "                <summary>\n",
       "                    <h4 style=\"margin-bottom: 0px; display: inline;\">Worker: 4</h4>\n",
       "                </summary>\n",
       "                <table style=\"width: 100%; text-align: left;\">\n",
       "                    <tr>\n",
       "                        <td style=\"text-align: left;\">\n",
       "                            <strong>Comm: </strong> tcp://127.0.0.1:37505\n",
       "                        </td>\n",
       "                        <td style=\"text-align: left;\">\n",
       "                            <strong>Total threads: </strong> 5\n",
       "                        </td>\n",
       "                    </tr>\n",
       "                    <tr>\n",
       "                        <td style=\"text-align: left;\">\n",
       "                            <strong>Dashboard: </strong> <a href=\"http://127.0.0.1:39713/status\" target=\"_blank\">http://127.0.0.1:39713/status</a>\n",
       "                        </td>\n",
       "                        <td style=\"text-align: left;\">\n",
       "                            <strong>Memory: </strong> 6.24 GiB\n",
       "                        </td>\n",
       "                    </tr>\n",
       "                    <tr>\n",
       "                        <td style=\"text-align: left;\">\n",
       "                            <strong>Nanny: </strong> tcp://127.0.0.1:33985\n",
       "                        </td>\n",
       "                        <td style=\"text-align: left;\"></td>\n",
       "                    </tr>\n",
       "                    <tr>\n",
       "                        <td colspan=\"2\" style=\"text-align: left;\">\n",
       "                            <strong>Local directory: </strong> /tmp/dask-scratch-space/worker-3rypjbxc\n",
       "                        </td>\n",
       "                    </tr>\n",
       "\n",
       "                    \n",
       "\n",
       "                    \n",
       "\n",
       "                </table>\n",
       "            </details>\n",
       "            </div>\n",
       "        </div>\n",
       "        \n",
       "\n",
       "    </details>\n",
       "</div>\n",
       "\n",
       "        </details>\n",
       "    </div>\n",
       "</div>\n",
       "            </details>\n",
       "        \n",
       "\n",
       "    </div>\n",
       "</div>"
      ],
      "text/plain": [
       "<Client: 'tcp://127.0.0.1:34955' processes=5 threads=25, memory=31.18 GiB>"
      ]
     },
     "execution_count": 9,
     "metadata": {},
     "output_type": "execute_result"
    }
   ],
   "source": [
    "c"
   ]
  },
  {
   "cell_type": "markdown",
   "id": "447a242f-fbea-4315-91f5-c2bda03b2d94",
   "metadata": {},
   "source": [
    "Best, to use with `load_as_stack` and to supply contrast limits:"
   ]
  },
  {
   "cell_type": "code",
   "execution_count": 10,
   "id": "023391ec-33cd-47bb-8797-590e2d1479c2",
   "metadata": {},
   "outputs": [
    {
     "name": "stderr",
     "output_type": "stream",
     "text": [
      "Parsing Hierarchy : 100%|██████████| 2/2 [00:00<00:00, 13617.87it/s]\n",
      "Parsing Hierarchy : 100%|██████████| 120/120 [00:00<00:00, 17287.78it/s]\n",
      "Parsing Hierarchy : 100%|██████████| 143/143 [00:00<00:00, 18838.67it/s]\n",
      "Parsing Hierarchy : 100%|██████████| 196/196 [00:00<00:00, 16691.37it/s]\n",
      "Parsing Hierarchy : 100%|██████████| 2/2 [00:00<00:00, 13508.23it/s]\n",
      "Parsing Hierarchy : 100%|██████████| 55/55 [00:00<00:00, 19460.66it/s]\n",
      "Parsing Hierarchy : 100%|██████████| 182/182 [00:00<00:00, 18396.51it/s]\n",
      "Parsing Hierarchy : 100%|██████████| 86/86 [00:00<00:00, 18823.26it/s]\n",
      "Parsing Hierarchy : 100%|██████████| 159/159 [00:00<00:00, 1875.88it/s]\n",
      "Parsing Hierarchy : 100%|██████████| 187/187 [00:00<00:00, 18336.72it/s]\n",
      "Parsing Hierarchy : 100%|██████████| 194/194 [00:00<00:00, 18391.91it/s]\n",
      "Parsing Hierarchy : 100%|██████████| 188/188 [00:00<00:00, 18105.88it/s]\n",
      "Parsing Hierarchy : 100%|██████████| 196/196 [00:00<00:00, 17100.73it/s]\n"
     ]
    }
   ],
   "source": [
    "%%capture\n",
    "timeseries.add_to_viewer(v, s, file_pattern=file_pattern, load_as_stack=True, \n",
    "                         use_dask=True, \n",
    "                         contrast_limits=(-1, 2))"
   ]
  },
  {
   "cell_type": "markdown",
   "id": "69d9c5e3-6321-430d-8524-1274f47cd03b",
   "metadata": {},
   "source": [
    "## Loading regions"
   ]
  },
  {
   "cell_type": "code",
   "execution_count": 12,
   "id": "bb13b38e-bc66-46c7-958a-aeb773e39e18",
   "metadata": {},
   "outputs": [
    {
     "name": "stderr",
     "output_type": "stream",
     "text": [
      "Parsing Hierarchy : 100%|██████████| 2/2 [00:00<00:00, 6892.86it/s]\n",
      "Parsing Hierarchy : 100%|██████████| 120/120 [00:00<00:00, 17498.14it/s]\n",
      "Parsing Hierarchy : 100%|██████████| 120/120 [00:00<00:00, 18123.16it/s]\n",
      "Parsing Hierarchy : 100%|██████████| 120/120 [00:00<00:00, 1146.98it/s]\n",
      "Parsing Hierarchy : 100%|██████████| 120/120 [00:00<00:00, 17973.66it/s]\n",
      "Parsing Hierarchy : 100%|██████████| 120/120 [00:00<00:00, 16175.49it/s]\n",
      "Parsing Hierarchy : 100%|██████████| 120/120 [00:00<00:00, 15764.11it/s]\n",
      "Parsing Hierarchy : 100%|██████████| 162/162 [00:00<00:00, 18177.08it/s]\n",
      "Parsing Hierarchy : 100%|██████████| 188/188 [00:00<00:00, 15959.54it/s]\n",
      "Parsing Hierarchy : 100%|██████████| 196/196 [00:00<00:00, 19092.91it/s]\n",
      "Parsing Hierarchy : 100%|██████████| 2/2 [00:00<00:00, 17050.02it/s]\n",
      "Parsing Hierarchy : 100%|██████████| 41/41 [00:00<00:00, 14610.57it/s]\n",
      "Parsing Hierarchy : 100%|██████████| 123/123 [00:00<00:00, 19221.29it/s]\n",
      "Parsing Hierarchy : 100%|██████████| 194/194 [00:00<00:00, 1804.52it/s]\n"
     ]
    }
   ],
   "source": [
    "%%capture\n",
    "reg = timeseries.Region((\"enzo\", \"Density\"), resolution=(100, 100, 100))\n",
    "timeseries.add_to_viewer(v, reg, file_pattern=file_pattern, load_as_stack=True, \n",
    "                         use_dask=True, \n",
    "                         contrast_limits=(-1, 2))"
   ]
  },
  {
   "cell_type": "markdown",
   "id": "8e1a2ffe-139f-41a6-9245-b98169e5ee95",
   "metadata": {},
   "source": [
    "## Using dask, returning in-memory image array \n",
    "\n",
    "We can also use dask to simply distribute the selection but still return a fully in-memory array. This works best for slices, where you **probably** can safely fit all those slices in memory. "
   ]
  },
  {
   "cell_type": "code",
   "execution_count": 20,
   "id": "2916efe3-3f96-4638-9dfc-79ceed7b8098",
   "metadata": {},
   "outputs": [
    {
     "name": "stderr",
     "output_type": "stream",
     "text": [
      "Parsing Hierarchy : 100%|██████████| 66/66 [00:00<00:00, 3009.38it/s]\n",
      "Parsing Hierarchy : 100%|██████████| 86/86 [00:00<00:00, 16281.21it/s]\n",
      "Parsing Hierarchy : 100%|██████████| 139/139 [00:00<00:00, 6866.27it/s]\n",
      "Parsing Hierarchy : 100%|██████████| 76/76 [00:00<00:00, 5475.59it/s]\n",
      "Parsing Hierarchy : 100%|██████████| 111/111 [00:00<00:00, 16496.62it/s]\n",
      "Parsing Hierarchy : 100%|██████████| 94/94 [00:00<00:00, 13903.12it/s]\n",
      "Parsing Hierarchy : 100%|██████████| 2/2 [00:00<00:00, 16448.25it/s]\n",
      "Parsing Hierarchy : 100%|██████████| 104/104 [00:00<00:00, 18883.45it/s]\n",
      "Parsing Hierarchy : 100%|██████████| 132/132 [00:00<00:00, 15691.64it/s]\n",
      "Parsing Hierarchy : 100%|██████████| 143/143 [00:00<00:00, 17815.76it/s]\n",
      "Parsing Hierarchy : 100%|██████████| 114/114 [00:00<00:00, 12423.05it/s]\n",
      "Parsing Hierarchy : 100%|██████████| 2/2 [00:00<00:00, 16980.99it/s]\n",
      "Parsing Hierarchy : 100%|██████████| 3/3 [00:00<00:00, 12748.64it/s]\n",
      "Parsing Hierarchy :   0%|          | 0/105 [00:00<?, ?it/s]\n",
      "Parsing Hierarchy : 100%|██████████| 54/54 [00:00<00:00, 5102.67it/s]\n",
      "\n",
      "Parsing Hierarchy : 100%|██████████| 105/105 [00:00<00:00, 7924.89it/s]\n",
      "Parsing Hierarchy : 100%|██████████| 143/143 [00:00<00:00, 6126.64it/s]\n",
      "Parsing Hierarchy : 100%|██████████| 66/66 [00:00<00:00, 9846.48it/s]\n",
      "Parsing Hierarchy : 100%|██████████| 2/2 [00:00<00:00, 16384.00it/s]\n",
      "\n",
      "Parsing Hierarchy : 100%|██████████| 132/132 [00:00<00:00, 5586.25it/s]\n",
      "Parsing Hierarchy : 100%|██████████| 147/147 [00:00<00:00, 4259.88it/s]\n",
      "Parsing Hierarchy : 100%|██████████| 137/137 [00:00<00:00, 3306.46it/s]\n",
      "Parsing Hierarchy : 100%|██████████| 99/99 [00:00<00:00, 19060.64it/s]\n",
      "\n",
      "Parsing Hierarchy : 100%|██████████| 123/123 [00:00<00:00, 4604.89it/s]\n",
      "Parsing Hierarchy : 100%|██████████| 120/120 [00:00<00:00, 2311.91it/s]\n",
      "Parsing Hierarchy : 100%|██████████| 55/55 [00:00<00:00, 5024.54it/s]\n",
      "Parsing Hierarchy : 100%|██████████| 160/160 [00:00<00:00, 2813.65it/s]\n",
      "Parsing Hierarchy : 100%|██████████| 159/159 [00:00<00:00, 3762.41it/s]\n",
      "Parsing Hierarchy : 100%|██████████| 162/162 [00:00<00:00, 2989.64it/s]\n",
      "Parsing Hierarchy : 100%|██████████| 146/146 [00:00<00:00, 13172.05it/s]\n",
      "Parsing Hierarchy : 100%|██████████| 189/189 [00:00<00:00, 7218.78it/s]\n",
      "Parsing Hierarchy : 100%|██████████| 167/167 [00:00<00:00, 7444.38it/s]\n",
      "Parsing Hierarchy : 100%|██████████| 146/146 [00:00<00:00, 9523.61it/s]\n",
      "Parsing Hierarchy : 100%|██████████| 196/196 [00:00<00:00, 8703.63it/s]\n",
      "Parsing Hierarchy : 100%|██████████| 33/33 [00:00<00:00, 17370.99it/s]\n",
      "Parsing Hierarchy : 100%|██████████| 189/189 [00:00<00:00, 4600.43it/s]\n",
      "Parsing Hierarchy : 100%|██████████| 182/182 [00:00<00:00, 2969.33it/s]\n",
      "Parsing Hierarchy : 100%|██████████| 12/12 [00:00<00:00, 13938.42it/s]\n",
      "Parsing Hierarchy : 100%|██████████| 24/24 [00:00<00:00, 10149.56it/s]\n",
      "Parsing Hierarchy : 100%|██████████| 201/201 [00:00<00:00, 6072.22it/s]\n",
      "Parsing Hierarchy : 100%|██████████| 194/194 [00:00<00:00, 8418.81it/s]\n",
      "Parsing Hierarchy : 100%|██████████| 211/211 [00:00<00:00, 4229.56it/s]\n",
      "Parsing Hierarchy : 100%|██████████| 41/41 [00:00<00:00, 19526.11it/s]\n",
      "Parsing Hierarchy : 100%|██████████| 187/187 [00:00<00:00, 17921.51it/s]\n",
      "Parsing Hierarchy : 100%|██████████| 188/188 [00:00<00:00, 17980.78it/s]\n",
      "Parsing Hierarchy : 100%|██████████| 38/38 [00:00<00:00, 19826.29it/s]\n",
      "Parsing Hierarchy : 100%|██████████| 214/214 [00:00<00:00, 11585.43it/s]\n",
      "Parsing Hierarchy : 100%|██████████| 21/21 [00:00<00:00, 11664.73it/s]\n"
     ]
    },
    {
     "name": "stdout",
     "output_type": "stream",
     "text": [
      "CPU times: user 1 s, sys: 869 ms, total: 1.87 s\n",
      "Wall time: 12.3 s\n"
     ]
    }
   ],
   "source": [
    "%%time\n",
    "slice = timeseries.Slice((\"enzo\", \"Density\"), \"x\", resolution=(1600, 1600))\n",
    "timeseries.add_to_viewer(v, slice, file_pattern=file_pattern, load_as_stack=True, \n",
    "                         use_dask=True, \n",
    "                         return_delayed = False,\n",
    "                         contrast_limits=(-1, 2))"
   ]
  },
  {
   "cell_type": "markdown",
   "id": "282df7ff-6bea-4eaf-8aa0-05b0948df882",
   "metadata": {},
   "source": [
    "Note that changing `return_delayed` to `False` with a region selection can quickly exceed the memory available on your machine! "
   ]
  },
  {
   "cell_type": "code",
   "execution_count": 13,
   "id": "09821064-71f0-4ee6-be54-6f8998ab62dd",
   "metadata": {},
   "outputs": [],
   "source": [
    "c.close()"
   ]
  },
  {
   "cell_type": "code",
   "execution_count": null,
   "id": "9fb8e279-6925-4821-8015-dead9d165855",
   "metadata": {},
   "outputs": [],
   "source": []
  }
 ],
 "metadata": {
  "kernelspec": {
   "display_name": "Python 3 (ipykernel)",
   "language": "python",
   "name": "python3"
  },
  "language_info": {
   "codemirror_mode": {
    "name": "ipython",
    "version": 3
   },
   "file_extension": ".py",
   "mimetype": "text/x-python",
   "name": "python",
   "nbconvert_exporter": "python",
   "pygments_lexer": "ipython3",
   "version": "3.9.0"
  }
 },
 "nbformat": 4,
 "nbformat_minor": 5
}
