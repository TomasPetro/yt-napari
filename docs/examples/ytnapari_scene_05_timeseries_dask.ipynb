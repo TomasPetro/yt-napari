{
 "cells": [
  {
   "cell_type": "markdown",
   "id": "09edeb95-5173-4c68-b406-b23e8101db09",
   "metadata": {},
   "source": [
    "## Leveraging Dask for timeseries sampling\n",
    "\n",
    "### spin up a dask client \n",
    "\n",
    "\n",
    "### multithreading and yt\n",
    "\n",
    "Note that `yt` is not gauranteed to be thread safe. In practice, there are some situations where it **might** be and for this particular dataset, it actually is as long as logging is disabled (which is enforced within `add_to_viewer` when `use_dask=True`. "
   ]
  },
  {
   "cell_type": "code",
   "execution_count": null,
   "id": "603c648a-95a7-48a9-bf1a-54919a273955",
   "metadata": {},
   "outputs": [],
   "source": []
  },
  {
   "cell_type": "code",
   "execution_count": null,
   "id": "a0db040b-6b54-425e-b849-48e47962ee7f",
   "metadata": {},
   "outputs": [],
   "source": []
  },
  {
   "cell_type": "code",
   "execution_count": null,
   "id": "17d962ba-c47e-425a-a352-c08e6716aae6",
   "metadata": {},
   "outputs": [],
   "source": [
    "from dask.distributed import Client "
   ]
  },
  {
   "cell_type": "code",
   "execution_count": null,
   "id": "8db0de3a-3d8d-4d9e-bc6e-9001d883558a",
   "metadata": {},
   "outputs": [],
   "source": [
    "c = Client(n_workers=5, threads_per_worker=5)"
   ]
  },
  {
   "cell_type": "code",
   "execution_count": null,
   "id": "69aa477d-dee0-4ce1-ac27-e1a34d4753c1",
   "metadata": {},
   "outputs": [],
   "source": [
    "c"
   ]
  },
  {
   "cell_type": "code",
   "execution_count": null,
   "id": "398d22f7-de0b-407f-8f3b-ba58e83b2d2f",
   "metadata": {},
   "outputs": [],
   "source": [
    "import napari \n",
    "from yt_napari import timeseries"
   ]
  },
  {
   "cell_type": "markdown",
   "id": "90ea8450-3fda-447c-a0b7-0dac243e930c",
   "metadata": {},
   "source": [
    "## Delayed image stacks \n",
    "\n",
    "### Slices"
   ]
  },
  {
   "cell_type": "code",
   "execution_count": null,
   "id": "971adebb-aa63-42d8-a553-63df627e815c",
   "metadata": {},
   "outputs": [],
   "source": [
    "%%capture\n",
    "slc = timeseries.Slice((\"enzo\", \"Density\"), \"x\")\n",
    "timeseries.add_to_viewer(v, s, file_pattern=file_pattern, load_as_stack=True, \n",
    "                         use_dask=True, \n",
    "                         contrast_limits=(-1, 2))"
   ]
  },
  {
   "cell_type": "markdown",
   "id": "a8167d1c-39fe-43f7-8633-6b9edfabcb95",
   "metadata": {},
   "source": [
    "### Regions"
   ]
  },
  {
   "cell_type": "code",
   "execution_count": null,
   "id": "6122bc9f-6ef8-4af8-b5d5-2e94916fb760",
   "metadata": {},
   "outputs": [],
   "source": [
    "%%capture\n",
    "reg = timeseries.Region((\"enzo\", \"Density\"), resolution=(100, 100, 100))\n",
    "timeseries.add_to_viewer(v, reg, file_pattern=file_pattern, load_as_stack=True, \n",
    "                         use_dask=True, \n",
    "                         contrast_limits=(-1, 2))"
   ]
  },
  {
   "cell_type": "markdown",
   "id": "22e0c1d3-2552-45ad-99d5-f0136d98e5af",
   "metadata": {},
   "source": [
    "## Using dask, returning in-memory image array \n",
    "\n",
    "We can also use dask to simply distribute the selection but still return a fully in-memory array. This works best for slices, where you **probably** can safely fit all those slices in memory. "
   ]
  },
  {
   "cell_type": "code",
   "execution_count": null,
   "id": "47a56288-42fd-4c93-93c7-3d89338fda4d",
   "metadata": {},
   "outputs": [],
   "source": [
    "%%time\n",
    "slice = timeseries.Slice((\"enzo\", \"Density\"), \"x\", resolution=(1600, 1600))\n",
    "timeseries.add_to_viewer(v, slice, file_pattern=file_pattern, load_as_stack=True, \n",
    "                         use_dask=True, \n",
    "                         return_delayed = False,\n",
    "                         contrast_limits=(-1, 2))"
   ]
  }
 ],
 "metadata": {
  "kernelspec": {
   "display_name": "Python 3 (ipykernel)",
   "language": "python",
   "name": "python3"
  },
  "language_info": {
   "codemirror_mode": {
    "name": "ipython",
    "version": 3
   },
   "file_extension": ".py",
   "mimetype": "text/x-python",
   "name": "python",
   "nbconvert_exporter": "python",
   "pygments_lexer": "ipython3",
   "version": "3.9.0"
  }
 },
 "nbformat": 4,
 "nbformat_minor": 5
}
